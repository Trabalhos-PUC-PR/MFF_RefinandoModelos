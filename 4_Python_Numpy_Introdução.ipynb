{
  "nbformat": 4,
  "nbformat_minor": 0,
  "metadata": {
    "celltoolbar": "Slideshow",
    "kernelspec": {
      "name": "python36",
      "display_name": "Python 3.6",
      "language": "python"
    },
    "language_info": {
      "mimetype": "text/x-python",
      "nbconvert_exporter": "python",
      "name": "python",
      "pygments_lexer": "ipython3",
      "version": "3.6.6",
      "file_extension": ".py",
      "codemirror_mode": {
        "version": 3,
        "name": "ipython"
      }
    },
    "colab": {
      "name": " 4 - Python - Numpy- Introdução.ipynb",
      "provenance": [],
      "collapsed_sections": []
    }
  },
  "cells": [
    {
      "cell_type": "markdown",
      "metadata": {
        "id": "broPJVcHmBIS"
      },
      "source": [
        "\n",
        "# Numpy -  introdução aos arrays em numpy \n",
        "## Por Frank de Alcantara\n"
      ]
    },
    {
      "cell_type": "markdown",
      "metadata": {
        "id": "2Gi74i11mBIT"
      },
      "source": [
        "## Introdução"
      ]
    },
    {
      "cell_type": "markdown",
      "metadata": {
        "id": "BkVKVFHKmBIU"
      },
      "source": [
        "A biblioteca numpy fornece um grande número de funções numéricas referentes a manipulaçao de vetores, matrizes e tensores. Trata-se de uma biblioteca de objetos, métodos e tipos de dados específicamente desenvolvida para uso em computação científica, cálculo numérico e álgebra linear que encontrou um nicho em aplicações de algoritmos de aprendizagem de máquina. Sua documentação pode ser encontrada em: [numpy](https://docs.scipy.org/doc/)"
      ]
    },
    {
      "cell_type": "code",
      "metadata": {
        "trusted": true,
        "id": "CgqQaKBzmBIU",
        "colab": {
          "base_uri": "https://localhost:8080/"
        },
        "outputId": "b3637687-5bff-4b3e-b58b-317cbb3d42f8"
      },
      "source": [
        "%matplotlib inline\n",
        "import matplotlib.pyplot as plt #apenas para os gráficos\n",
        "import numpy as np\n",
        "print(\"passamos aqui!!!\")"
      ],
      "execution_count": null,
      "outputs": [
        {
          "output_type": "stream",
          "text": [
            "passamos aqui!!!\n"
          ],
          "name": "stdout"
        }
      ]
    },
    {
      "cell_type": "markdown",
      "metadata": {
        "id": "d7e31bvimBIY"
      },
      "source": [
        "Assim como em C, usamos array como denominação para vetores, matrizes e tensores na biblioteca `numpy`. Só para recordar: um array é uma estrutura de dados que mantém um conjunto de dados de um determinado tipo, e permite que um determinado elemento seja armazenado, localizado e alterado.\n",
        "\n",
        "Na biblioteca numpy existe um tipo de dados _N-dimensional array (ndarray)_ que foi desenvolvido como um conteiner de objetos para definir uma estrutura de dados composta fundamental para representação de dados. Consiste, na maior parte das vezes, de uma coleção de dados, de tamanho fixo, do mesmo tipo, mantida em memória. \n",
        "\n",
        "Como todos os conteiners, os _ndarrays_ permitem que os elementos armazenados possam ser acessados, modificados, e inseridos. Existe, na verdade, um conjunto de métodos que permite um grande número de operações com os dados armazenados. \n",
        "\n",
        "No estudo de algoritmos de aprendizado de máquina iremos dar preferência ao array _ndarray_ definido na biblioteca numpy por que:\n",
        "\n",
        "* As listas em Python são genéricas e podem conter qualquer tipo de objeto. Além disso, estas listas são dinâmicamente tipadas. Por fim, o Python não fornece, nativamente, as operações matemáticas básicas para a operação com vetores e matrizes;\n",
        "* Por outro lado os ndarrays são **estaticamente tipadas**, homogêneas e seu tipo é definido na criação;\n",
        "* Graças aos tipos estáticos, é possível implementar funções matemáticas extremamente rápidas e eficiente.\n"
      ]
    },
    {
      "cell_type": "markdown",
      "metadata": {
        "id": "cP38z_MYmBIY"
      },
      "source": [
        "## Criando seu primeiro array"
      ]
    },
    {
      "cell_type": "markdown",
      "metadata": {
        "id": "W7gaau32mBIZ"
      },
      "source": [
        "Existem, como não poderia deixar de ser, diversas formas de criar um array:\n",
        "\n",
        "* por meio de uma lista de tuplas;\n",
        "* usando funções especiais como: `arange`, `linspace`, etc.\n",
        "* lendo dados de arquivos. "
      ]
    },
    {
      "cell_type": "markdown",
      "metadata": {
        "id": "kWXmeB68mBIZ"
      },
      "source": [
        "## Usando listas para criar um array\n",
        "Podemos começar usando a função ___numpy.array___ e uma lista. Como no cabeçalho definimos a importação da biblioteca numpy como: ___import numpy as np___ poderemos utilizar ___np.array___\n"
      ]
    },
    {
      "cell_type": "code",
      "metadata": {
        "trusted": true,
        "id": "kn8yYC0smBIa",
        "colab": {
          "base_uri": "https://localhost:8080/"
        },
        "outputId": "5edf658e-032e-4128-a6d7-6fc86ebe901f"
      },
      "source": [
        "# o vetor [1,2,3,4] será diretamene passado como argumento da função array. Este vetor é uma lista.\n",
        "meuArray1 = np.array([1,2,3,4])\n",
        "#para ver o ndarray criado. Lembre-se este array será mantido em memória.\n",
        "meuArray1"
      ],
      "execution_count": null,
      "outputs": [
        {
          "output_type": "execute_result",
          "data": {
            "text/plain": [
              "array([1, 2, 3, 4])"
            ]
          },
          "metadata": {
            "tags": []
          },
          "execution_count": 6
        }
      ]
    },
    {
      "cell_type": "markdown",
      "metadata": {
        "id": "jXe4cSTvg8MY"
      },
      "source": [
        "Podemos ver o tipo da variável meu_array1"
      ]
    },
    {
      "cell_type": "code",
      "metadata": {
        "colab": {
          "base_uri": "https://localhost:8080/"
        },
        "id": "9Zk6dvEPhBhM",
        "outputId": "602abcd8-cd0b-42bd-a561-4a1aa7991dbe"
      },
      "source": [
        "type(meuArray1)"
      ],
      "execution_count": null,
      "outputs": [
        {
          "output_type": "execute_result",
          "data": {
            "text/plain": [
              "numpy.ndarray"
            ]
          },
          "metadata": {
            "tags": []
          },
          "execution_count": 7
        }
      ]
    },
    {
      "cell_type": "markdown",
      "metadata": {
        "id": "UzZNmZgrhE_U"
      },
      "source": [
        "Este **ndarray** significa **N-Dimensional Array** indicando que o tipo do array criado pelo numpy é multidimensional (n)"
      ]
    },
    {
      "cell_type": "code",
      "metadata": {
        "trusted": true,
        "id": "jTP9ZGOHmBId",
        "colab": {
          "base_uri": "https://localhost:8080/"
        },
        "outputId": "f37778e8-803d-4e64-d061-f08acf793c82"
      },
      "source": [
        "# ou podemos usar uma lista de listas como argumento da função array\n",
        "meuArray2 = np.array([[1, 2], [3, 4], [7,8]])\n",
        "#para ver a matriz criada. Observe que a matriz é um ndarrayb multidimensional.\n",
        "meuArray2"
      ],
      "execution_count": null,
      "outputs": [
        {
          "output_type": "execute_result",
          "data": {
            "text/plain": [
              "array([[1, 2],\n",
              "       [3, 4],\n",
              "       [7, 8]])"
            ]
          },
          "metadata": {
            "tags": []
          },
          "execution_count": 20
        }
      ]
    },
    {
      "cell_type": "markdown",
      "metadata": {
        "id": "0C7QoXJhmBIg"
      },
      "source": [
        "O objeto **ndarray** criado armazena dados de um único tipo, independente do número de dimensões que armazenamos. Podemos usar o método ___type()___ para explicitar que método é este."
      ]
    },
    {
      "cell_type": "code",
      "metadata": {
        "trusted": true,
        "id": "KUlDX17WmBIg",
        "colab": {
          "base_uri": "https://localhost:8080/"
        },
        "outputId": "c25d0339-09a1-4386-cf6b-62323709b4f7"
      },
      "source": [
        "#agora podemos ver o tipo dos objetos ndarray criados até o momento\n",
        "type(meuArray1), type(meuArray2)"
      ],
      "execution_count": null,
      "outputs": [
        {
          "output_type": "execute_result",
          "data": {
            "text/plain": [
              "(numpy.ndarray, numpy.ndarray)"
            ]
          },
          "metadata": {
            "tags": []
          },
          "execution_count": 13
        }
      ]
    },
    {
      "cell_type": "markdown",
      "metadata": {
        "id": "bDrObSachoKD"
      },
      "source": [
        "Além das funções que o objeto _numpy_ irá disponibilizar, há uma outra grande vantagem em usar este tipo de array. O objeto _numpy_ usa muito pouca memória se comparado ao array do Python. "
      ]
    },
    {
      "cell_type": "code",
      "metadata": {
        "id": "OODCfiNSh3LK"
      },
      "source": [
        "import sys ## para avaliar o tamanho de objetos na memória"
      ],
      "execution_count": null,
      "outputs": []
    },
    {
      "cell_type": "code",
      "metadata": {
        "colab": {
          "base_uri": "https://localhost:8080/"
        },
        "id": "EsX0e9m2iDea",
        "outputId": "ee705af5-ce9c-41fd-d500-f6b308b10365"
      },
      "source": [
        "lista_python = [1,2,3,4,5,6]\n",
        "tamanho_lista = sys.getsizeof(1) * len(lista_python)\n",
        "tamanho_lista"
      ],
      "execution_count": null,
      "outputs": [
        {
          "output_type": "execute_result",
          "data": {
            "text/plain": [
              "168"
            ]
          },
          "metadata": {
            "tags": []
          },
          "execution_count": 15
        }
      ]
    },
    {
      "cell_type": "code",
      "metadata": {
        "colab": {
          "base_uri": "https://localhost:8080/"
        },
        "id": "FlN0ciF5iK6b",
        "outputId": "d944fde6-4de5-42da-a405-cd51cde58b13"
      },
      "source": [
        "npArray = np.array([1,2,3,4,5,6])\n",
        "tamanho_npArray = npArray.itemsize * npArray.size\n",
        "tamanho_npArray"
      ],
      "execution_count": null,
      "outputs": [
        {
          "output_type": "execute_result",
          "data": {
            "text/plain": [
              "48"
            ]
          },
          "metadata": {
            "tags": []
          },
          "execution_count": 16
        }
      ]
    },
    {
      "cell_type": "markdown",
      "metadata": {
        "id": "FyokSkAdmBIl"
      },
      "source": [
        "O objeto _ndarray_ possui um conjunto interessante de métodos que são informativos. Por exemplo, a diferença entre `meu_array1` e `meu_array2` é a sua forma. para descobrir a forma de um objeto podemos usar a propriedade `nomeDoArray.shape`."
      ]
    },
    {
      "cell_type": "code",
      "metadata": {
        "trusted": true,
        "id": "pgY2AGNLmBIm",
        "colab": {
          "base_uri": "https://localhost:8080/"
        },
        "outputId": "e42e3208-9e86-41f4-ef54-d1222e7cc0f7"
      },
      "source": [
        "#descobrindo a forma do array. observe que este array tem apenas uma dimensão, trata-se de um vetor\n",
        "print(meuArray1)\n",
        "meuArray1.shape"
      ],
      "execution_count": null,
      "outputs": [
        {
          "output_type": "stream",
          "text": [
            "[1 2 3 4]\n"
          ],
          "name": "stdout"
        },
        {
          "output_type": "execute_result",
          "data": {
            "text/plain": [
              "(4,)"
            ]
          },
          "metadata": {
            "tags": []
          },
          "execution_count": 17
        }
      ]
    },
    {
      "cell_type": "code",
      "metadata": {
        "trusted": true,
        "id": "SJK21kW_mBIp",
        "colab": {
          "base_uri": "https://localhost:8080/"
        },
        "outputId": "dc421244-2002-42d6-a494-74543f6fc2a0"
      },
      "source": [
        "#Já o meu_array2 tem duas dimensões e armazena uma matriz de 2X2\n",
        "print(meuArray2)\n",
        "meuArray2.shape"
      ],
      "execution_count": null,
      "outputs": [
        {
          "output_type": "stream",
          "text": [
            "[[1 2]\n",
            " [3 4]]\n"
          ],
          "name": "stdout"
        },
        {
          "output_type": "execute_result",
          "data": {
            "text/plain": [
              "(2, 2)"
            ]
          },
          "metadata": {
            "tags": []
          },
          "execution_count": 18
        }
      ]
    },
    {
      "cell_type": "markdown",
      "metadata": {
        "id": "0witDGLlmBIt"
      },
      "source": [
        "Outra propriedade informativa interessante do objeto _ndarray_ é a propriedade 'size' que pode ser acessada por: `nomeDoArray.size`."
      ]
    },
    {
      "cell_type": "code",
      "metadata": {
        "trusted": true,
        "id": "TgjfK4JAmBIu",
        "colab": {
          "base_uri": "https://localhost:8080/"
        },
        "outputId": "3117730c-512d-4719-a628-d013ec6d03b0"
      },
      "source": [
        "#determinando o tamanho de um ndarray\n",
        "print(meuArray1.size)\n",
        "print(meuArray2.size)"
      ],
      "execution_count": null,
      "outputs": [
        {
          "output_type": "stream",
          "text": [
            "4\n",
            "6\n"
          ],
          "name": "stdout"
        }
      ]
    },
    {
      "cell_type": "markdown",
      "metadata": {
        "id": "44Li5f4tmBIx"
      },
      "source": [
        "É importante notar que, a nível estrutural um array é apenas um conjunto de ponteiros que representa o resultado entre um tipo de dado, um fomato, um endereço de memória e um conjunto de passos: \n",
        "* O ponteiro indica o endereço de memória do primeiro byte do array;\n",
        "* O tipo de dado, ou ___dtype___ descreve o tipo de ado usado pelos elementos do array;\n",
        "* O formato é, ou ___shape___ óbviamente, a forma do array; \n",
        "* O conjunto de passos, ou ___strides___ representa apenas o número de bytes que precisam ser pulados na memória para que seja possível encontrar o próximo elemento. \n"
      ]
    },
    {
      "cell_type": "code",
      "metadata": {
        "trusted": true,
        "id": "wckciFMlmBIx",
        "colab": {
          "base_uri": "https://localhost:8080/"
        },
        "outputId": "f5281749-1cba-44ac-ff17-252422aeda68"
      },
      "source": [
        "#o tipo de dado que está armazenando no array do meu_Array2\n",
        "meuArray2.dtype"
      ],
      "execution_count": null,
      "outputs": [
        {
          "output_type": "execute_result",
          "data": {
            "text/plain": [
              "dtype('int64')"
            ]
          },
          "metadata": {
            "tags": []
          },
          "execution_count": 23
        }
      ]
    },
    {
      "cell_type": "markdown",
      "metadata": {
        "id": "hUm8IwNzmBI7"
      },
      "source": [
        "Como são os objetos armazenados em um _ndarray_ são estáticamente tipados, não podemos acessar tipos de dados diferentes do tipo de dados que foi usado durante a criação do objeto. Existem 19 tipos de dados primitivos que podem ser armazenados em um objeto do tipo _ndarray_ estes tipos vão deste inteiros até números complexos passando por todos os tipos suportados pela linguagem Python."
      ]
    },
    {
      "cell_type": "code",
      "metadata": {
        "trusted": true,
        "id": "yS2ds0bSmBI8",
        "colab": {
          "base_uri": "https://localhost:8080/",
          "height": 181
        },
        "outputId": "69dde73f-f4ee-4165-e02d-4a9ed42162de"
      },
      "source": [
        "#esta linha, quando executada, terá que emitir um erro já que existe um erro de tipos na atribuição\n",
        "meuArray2[0,0] = \"hello\""
      ],
      "execution_count": null,
      "outputs": [
        {
          "output_type": "error",
          "ename": "ValueError",
          "evalue": "ignored",
          "traceback": [
            "\u001b[0;31m---------------------------------------------------------------------------\u001b[0m",
            "\u001b[0;31mValueError\u001b[0m                                Traceback (most recent call last)",
            "\u001b[0;32m<ipython-input-24-0be7cbbac356>\u001b[0m in \u001b[0;36m<module>\u001b[0;34m()\u001b[0m\n\u001b[1;32m      1\u001b[0m \u001b[0;31m#esta linha, quando executada, terá que emitir um erro já que existe um erro de tipos na atribuição\u001b[0m\u001b[0;34m\u001b[0m\u001b[0;34m\u001b[0m\u001b[0;34m\u001b[0m\u001b[0m\n\u001b[0;32m----> 2\u001b[0;31m \u001b[0mmeuArray2\u001b[0m\u001b[0;34m[\u001b[0m\u001b[0;36m0\u001b[0m\u001b[0;34m,\u001b[0m\u001b[0;36m0\u001b[0m\u001b[0;34m]\u001b[0m \u001b[0;34m=\u001b[0m \u001b[0;34m\"hello\"\u001b[0m\u001b[0;34m\u001b[0m\u001b[0;34m\u001b[0m\u001b[0m\n\u001b[0m",
            "\u001b[0;31mValueError\u001b[0m: invalid literal for int() with base 10: 'hello'"
          ]
        }
      ]
    },
    {
      "cell_type": "markdown",
      "metadata": {
        "id": "CFueNuR-mBI_"
      },
      "source": [
        "Se você desejar, poderá criar um tipo de dado explicitamente usando o método ___np.array()___ com o argumento `dtype`. Podemos exemplificar este processo criando um novo array para armazenar números complexos. Por exemplo, para armazenar números complexos teremos:"
      ]
    },
    {
      "cell_type": "code",
      "metadata": {
        "trusted": true,
        "id": "g6FTpuV4mBJA",
        "colab": {
          "base_uri": "https://localhost:8080/"
        },
        "outputId": "7f895f2c-9cce-4bba-acee-5a2fe4ad0cb0"
      },
      "source": [
        "#para trabalhar com números complexos\n",
        "meuArray2 = np.array([[1, 2], [3, 4]], dtype=complex)\n",
        "#para visualizar o novo array\n",
        "meuArray2"
      ],
      "execution_count": null,
      "outputs": [
        {
          "output_type": "execute_result",
          "data": {
            "text/plain": [
              "array([[1.+0.j, 2.+0.j],\n",
              "       [3.+0.j, 4.+0.j]])"
            ]
          },
          "metadata": {
            "tags": []
          },
          "execution_count": 25
        }
      ]
    },
    {
      "cell_type": "markdown",
      "metadata": {
        "id": "IhYlqYkymBJD"
      },
      "source": [
        "## Usando funções para trabalhar com _ndarrays_\n",
        "A biblioteca numpy fornece um conjunto interessante de métodos para facilitar os processos de criação e manutenção de _ndarrays_. Entre este métodos destacam-se: ___arange()___; ___linspace()___ e ___logspace()___\n",
        "### Usando arange()\n",
        "Este método permite a criação de um ndarray já populado por um conjunto de valores \n"
      ]
    },
    {
      "cell_type": "code",
      "metadata": {
        "trusted": true,
        "id": "IO6N8S1EmBJD",
        "colab": {
          "base_uri": "https://localhost:8080/"
        },
        "outputId": "e342abbe-5712-43b8-88cf-86abe207f515"
      },
      "source": [
        "# criando um array em um determinado range de valores\n",
        "testeArange = np.arange(0, 10, 1) # argumentos: start, stop, step\n",
        "testeArange"
      ],
      "execution_count": null,
      "outputs": [
        {
          "output_type": "execute_result",
          "data": {
            "text/plain": [
              "array([0, 1, 2, 3, 4, 5, 6, 7, 8, 9])"
            ]
          },
          "metadata": {
            "tags": []
          },
          "execution_count": 26
        }
      ]
    },
    {
      "cell_type": "code",
      "metadata": {
        "trusted": true,
        "id": "9oYqFsvRmBJG",
        "colab": {
          "base_uri": "https://localhost:8080/"
        },
        "outputId": "61fb10d7-4796-43ae-d400-900765339805"
      },
      "source": [
        "testeArange = np.arange(-1, 1, 0.1)\n",
        "\n",
        "testeArange"
      ],
      "execution_count": null,
      "outputs": [
        {
          "output_type": "execute_result",
          "data": {
            "text/plain": [
              "array([-1.00000000e+00, -9.00000000e-01, -8.00000000e-01, -7.00000000e-01,\n",
              "       -6.00000000e-01, -5.00000000e-01, -4.00000000e-01, -3.00000000e-01,\n",
              "       -2.00000000e-01, -1.00000000e-01, -2.22044605e-16,  1.00000000e-01,\n",
              "        2.00000000e-01,  3.00000000e-01,  4.00000000e-01,  5.00000000e-01,\n",
              "        6.00000000e-01,  7.00000000e-01,  8.00000000e-01,  9.00000000e-01])"
            ]
          },
          "metadata": {
            "tags": []
          },
          "execution_count": 27
        }
      ]
    },
    {
      "cell_type": "markdown",
      "metadata": {
        "id": "YQN0uZEbmBJI"
      },
      "source": [
        "### Usando linspace() e logspace()\n",
        "Podemos usar estes métodos para criar um array com elementos distribuidos segundo um espaço determinado entre dois limites especificados. \n",
        "\n",
        "___np.linspace(start, stop, num=50, endpoint=True, retstep=False, dtype=None)___\n",
        "\n",
        "* ___start___: indica o limite inicial do intervalo;\n",
        "* ___stop___: indica o limite final do intervalo;\n",
        "* ___num___: indica o número de pontos que o intervalo deve conter. Inclui os pontos que representam os limites do intervalo.\n",
        "* ___endpoint___: quando ___false___ o conjunto retornado não contém o limite final do intervalo.\n",
        "* ___retstep___: se ___true___, o valor retornado é uma tupla em que o primeiro elemento é o arranjo construído, e o segundo elemento é o tamanho do intervalo.\n"
      ]
    },
    {
      "cell_type": "code",
      "metadata": {
        "trusted": true,
        "id": "wPyDRuiTmBJJ",
        "colab": {
          "base_uri": "https://localhost:8080/"
        },
        "outputId": "1a244e76-ad01-452c-b8be-7bd3efa988aa"
      },
      "source": [
        "#a distribuição é linear\n",
        "np.linspace(0, 10, 25)"
      ],
      "execution_count": null,
      "outputs": [
        {
          "output_type": "execute_result",
          "data": {
            "text/plain": [
              "array([ 0. ,  2.5,  5. ,  7.5, 10. ])"
            ]
          },
          "metadata": {
            "tags": []
          },
          "execution_count": 29
        }
      ]
    },
    {
      "cell_type": "markdown",
      "metadata": {
        "id": "jRcdoqRMmBJS"
      },
      "source": [
        "Ou podemos criar um array com cinco valores entre $-\\pi$ e $\\pi$ sem o valor final ainda usando uma distribuição linear entre estes elementos. A constante $\\pi$ está disponível tanto na biblioteca _math_ quanto na biblioteca _numpy_."
      ]
    },
    {
      "cell_type": "code",
      "metadata": {
        "trusted": true,
        "id": "wM_-39c6mBJT",
        "colab": {
          "base_uri": "https://localhost:8080/"
        },
        "outputId": "1156d4a2-98d8-4b8c-f2fe-d75fd58e4f6c"
      },
      "source": [
        "np.linspace(-np.pi, np.pi, 25)"
      ],
      "execution_count": null,
      "outputs": [
        {
          "output_type": "execute_result",
          "data": {
            "text/plain": [
              "array([-3.14159265, -2.87979327, -2.61799388, -2.35619449, -2.0943951 ,\n",
              "       -1.83259571, -1.57079633, -1.30899694, -1.04719755, -0.78539816,\n",
              "       -0.52359878, -0.26179939,  0.        ,  0.26179939,  0.52359878,\n",
              "        0.78539816,  1.04719755,  1.30899694,  1.57079633,  1.83259571,\n",
              "        2.0943951 ,  2.35619449,  2.61799388,  2.87979327,  3.14159265])"
            ]
          },
          "metadata": {
            "tags": []
          },
          "execution_count": 34
        }
      ]
    },
    {
      "cell_type": "markdown",
      "metadata": {
        "id": "i8B7aMBAmBJV"
      },
      "source": [
        "Usando o método logspace podemos fazer a mesma coisa distribuido os valores em um espaço logarítmico. \n",
        "\n",
        "___numpy.logspace(start, stop, num=50, endpoint=True, base=10.0, dtype=None)___\n",
        "\n",
        "Neste caso temos um argumento extra: ___base___ que representa a base do espaço logarítmo que será gerado o padrão é 10.0"
      ]
    },
    {
      "cell_type": "code",
      "metadata": {
        "trusted": true,
        "id": "E23dLNQOmBJW",
        "colab": {
          "base_uri": "https://localhost:8080/"
        },
        "outputId": "2eaa03f9-8623-4914-db4a-0e167a1c9502"
      },
      "source": [
        "# usando logspace a distribuição é logarítmica\n",
        "np.logspace(0, 10, 10, base=np.e)"
      ],
      "execution_count": null,
      "outputs": [
        {
          "output_type": "execute_result",
          "data": {
            "text/plain": [
              "array([1.00000000e+00, 3.03773178e+00, 9.22781435e+00, 2.80316249e+01,\n",
              "       8.51525577e+01, 2.58670631e+02, 7.85771994e+02, 2.38696456e+03,\n",
              "       7.25095809e+03, 2.20264658e+04])"
            ]
          },
          "metadata": {
            "tags": []
          },
          "execution_count": 31
        }
      ]
    },
    {
      "cell_type": "markdown",
      "metadata": {
        "id": "TPjcKNZxmBJY"
      },
      "source": [
        "### Usando dados randômicos\n",
        "A biblioteca numpy usa um poderoso gerador de números psedo aleatórios conhecido como [Mersenne Twister](file:///C:/Users/Lab/Downloads/Jag08.pdf)\n",
        "\n",
        "O método ___numpy.random.randn(d0, d1, …, dn)___ : irá criar um array com a forma especificada peor _(d0, d1,..., dn)_ e preencher este array com valores aleatórios de acordo com uma distribuição normal.  Se _(d0, d1, ..., dn)_ forem números positivos os números fornecidos estarão entre zero e um com média 0 e variância 1, se um dos argumentos for um float ele será convertido para inteiro por truncamento. Se nenhum argumento for fornecido o método devolverá um únio float randômico de acordo com a distribuição normal. "
      ]
    },
    {
      "cell_type": "code",
      "metadata": {
        "trusted": true,
        "id": "OQhYcSPxmBJZ",
        "colab": {
          "base_uri": "https://localhost:8080/"
        },
        "outputId": "d376bfe8-07e7-463c-c171-239f034396f2"
      },
      "source": [
        "#podemos gerar um array com 4 elementos randômicos\n",
        "np.random.normal(size=14)"
      ],
      "execution_count": null,
      "outputs": [
        {
          "output_type": "execute_result",
          "data": {
            "text/plain": [
              "array([ 0.43558249,  0.04667528, -1.08554218, -0.00792783,  0.85660132,\n",
              "        0.59547361,  0.04060896, -0.00469521,  0.30771183, -0.19716586,\n",
              "       -0.74923319,  1.09970628,  0.62834105, -1.94143187])"
            ]
          },
          "metadata": {
            "tags": []
          },
          "execution_count": 35
        }
      ]
    },
    {
      "cell_type": "code",
      "metadata": {
        "trusted": true,
        "id": "2jySgACQmBJb",
        "colab": {
          "base_uri": "https://localhost:8080/"
        },
        "outputId": "818c3833-49d6-4995-9635-0592dafebf71"
      },
      "source": [
        "# ou gerar uma matriz de 5X5\n",
        "np.random.rand(5,5)"
      ],
      "execution_count": null,
      "outputs": [
        {
          "output_type": "execute_result",
          "data": {
            "text/plain": [
              "array([[0.35128139, 0.3928913 , 0.75620544, 0.03836242, 0.01237388],\n",
              "       [0.18814904, 0.80978835, 0.28818037, 0.2292415 , 0.41432996],\n",
              "       [0.28001828, 0.19973183, 0.47592271, 0.34629793, 0.40395352],\n",
              "       [0.37146862, 0.39434624, 0.32829673, 0.26565902, 0.68451591],\n",
              "       [0.8752352 , 0.83613475, 0.96507628, 0.76322791, 0.96262878]])"
            ]
          },
          "metadata": {
            "tags": []
          },
          "execution_count": 36
        }
      ]
    },
    {
      "cell_type": "markdown",
      "metadata": {
        "id": "tQ27JNe0mBJd"
      },
      "source": [
        "Você também pode mudar a distribuição de probabilidade para a geração de números randômicos. Se você não especificar a distribuição será usada a distribuição normal mas, existem 35 distribuições disponíveis na biblioteca Numpy. \n",
        "\n",
        "A distribuição normal recebe comp parâmetros:\n",
        "\n",
        "*__Loc__ : float ou array de floats representando a média (centro) da distribuição;\n",
        "\n",
        "*__scale__ : float ou array de floats representando o desvio padrão da distribuição;\n",
        "\n",
        "*__size__ : opcional um inteiro ou uma tupla de inteiros representando o formato do array de saida. \n",
        "\n",
        "\n",
        "A distribuição normal devolve:\t\n",
        "\n",
        "*__out__ : um array do numpy (ndarray) ou um escalar\n",
        "\n",
        "Essa a densidade de probabilidade de uma Gaussiana é dada por: \n",
        "$$P(x) = \\frac{1}{\\sqrt{2\\pi\\sigma^2}}\\epsilon^{\\frac{(x-\\mu)^2}{2\\sigma^2}}$$\n",
        "Onde $\\mu$ representa a média e $\\sigma$ representa o desvio padrão.\n",
        "\n",
        "usando o matplotlib é possivel plotar uma distribuição normal de números randômicos."
      ]
    },
    {
      "cell_type": "code",
      "metadata": {
        "trusted": true,
        "id": "GQepCkvrmBJd",
        "colab": {
          "base_uri": "https://localhost:8080/",
          "height": 265
        },
        "outputId": "c3ba1305-72fc-4bbf-f414-a2fe32172bc6"
      },
      "source": [
        "media, desvio = 0, 0.4 \n",
        "universo = np.random.normal(media, desvio, 500)\n",
        "\n",
        "contador, faixas, ignorar= plt.hist(universo, 30, density=True)\n",
        "#aplicando a fórmula diretamente na função de plotagem\n",
        "plt.plot(faixas, 1/(desvio * np.sqrt(2 * np.pi)) *\n",
        "          np.exp( - (faixas - media)**2 / (2 * desvio**2) ),\n",
        "          linewidth=2, color='b')\n",
        "#finalmente plotamos\n",
        "plt.show()\n"
      ],
      "execution_count": null,
      "outputs": [
        {
          "output_type": "display_data",
          "data": {
            "image/png": "[encoded data removed]",
            "text/plain": [
              "<Figure size 432x288 with 1 Axes>"
            ]
          },
          "metadata": {
            "tags": [],
            "needs_background": "light"
          }
        }
      ]
    },
    {
      "cell_type": "markdown",
      "metadata": {
        "id": "p07uR7mMmBJg"
      },
      "source": [
        "Podemos também, apenas como exemplo, gerar números randômicos de acordo com uma distribuição uniform. Neste caso, teremos os seguintes\n",
        "argumentos: \n",
        "\n",
        "*__Low__: float ou array de floats representando a borda inferior do intervalo de saída;\n",
        "\n",
        "*__high__: float ou array de floats representando a borda superior do intervalo de saída; \n",
        "\n",
        "*__size__: interior ou tupla de inteiros representado o formato da saída.\n",
        "\n",
        "E irá resultar em um array do numpy (ndarray) ou um escalar. \n",
        "\n",
        "O método ___uniform___ devolverá um conjunto de números randômicos em um intervalo fechado na borda inferior e aberto na borda superior.\n",
        "Isso quer dizer que o argumento __Low__ será incluído no conjunto de resposta. A distribuição uniforme é dada por:\n",
        "\n",
        "$$p(x) = \\frac{1}{b - a}$$\n",
        "\n",
        "E podemos, novamente, plotar um diagrama para entender essa distribuição\n",
        "\n"
      ]
    },
    {
      "cell_type": "code",
      "metadata": {
        "trusted": true,
        "id": "BeTA8QlXmBJh",
        "colab": {
          "base_uri": "https://localhost:8080/",
          "height": 265
        },
        "outputId": "778a299b-aa0e-4821-d628-1d76fe404950"
      },
      "source": [
        "universo = np.random.uniform(-1,0,500)\n",
        "\n",
        "contador, faixa, ignorar = plt.hist(universo, 55, density=True)\n",
        "# O método np.ones_like devolve um array de 1 com a mesma forma do array fornecido como argumento\n",
        "plt.plot(faixa, np.ones_like(faixa),linewidth=2, color='r')\n",
        "plt.show()"
      ],
      "execution_count": null,
      "outputs": [
        {
          "output_type": "display_data",
          "data": {
            "image/png": "[encoded data removed]",
            "text/plain": [
              "<Figure size 432x288 with 1 Axes>"
            ]
          },
          "metadata": {
            "tags": [],
            "needs_background": "light"
          }
        }
      ]
    },
    {
      "cell_type": "markdown",
      "metadata": {
        "id": "4b_0hlmimBJk"
      },
      "source": [
        "A função ___np.random.randint___ permite a geração de um conjunto de números randômicos inteiros no intervalo definido por __low__ (fechado) e __high__ (aberto). dois limites, o inferior e o superior. O terceiro argumento determina a forma do array resultante. "
      ]
    },
    {
      "cell_type": "code",
      "metadata": {
        "trusted": true,
        "id": "KXaZF4AemBJk",
        "colab": {
          "base_uri": "https://localhost:8080/"
        },
        "outputId": "af9479ef-9ddb-44c0-87d9-e76b7b49b0e5"
      },
      "source": [
        "#gerando um array de inteiros randômicos entre 1 e 20 com comprimento 8\n",
        "np.random.randint(low=1, high=20, size=8)"
      ],
      "execution_count": null,
      "outputs": [
        {
          "output_type": "execute_result",
          "data": {
            "text/plain": [
              "array([10, 11,  5,  9, 15, 12, 14,  7])"
            ]
          },
          "metadata": {
            "tags": []
          },
          "execution_count": 54
        }
      ]
    },
    {
      "cell_type": "markdown",
      "metadata": {
        "id": "Mq2nsqO5mBJn"
      },
      "source": [
        "Há ainda um quarto argumento para a função ___np.random.randint___ este argumento permite determinar o ___dtype___ do array (ndarray) resultante por seu nome: ‘int64’, ‘int’, etc, o valor default é ‘np.int’.\n"
      ]
    },
    {
      "cell_type": "code",
      "metadata": {
        "trusted": true,
        "id": "fOJJr6zPmBJn",
        "colab": {
          "base_uri": "https://localhost:8080/"
        },
        "outputId": "20333505-9ea3-47ad-a46b-7dc87612e879"
      },
      "source": [
        "#gerando números randomicos inteiros do tipo int64 entre 3 (incluído) e 10 (excluído) em uma matriz de 5X5\n",
        "np.random.randint(3, 10, size=(5, 5), dtype='int32')"
      ],
      "execution_count": null,
      "outputs": [
        {
          "output_type": "execute_result",
          "data": {
            "text/plain": [
              "array([[7, 8, 8, 7, 5],\n",
              "       [8, 6, 6, 6, 6],\n",
              "       [8, 5, 3, 8, 4],\n",
              "       [3, 8, 4, 3, 7],\n",
              "       [4, 6, 6, 9, 7]], dtype=int32)"
            ]
          },
          "metadata": {
            "tags": []
          },
          "execution_count": 60
        }
      ]
    },
    {
      "cell_type": "markdown",
      "metadata": {
        "id": "2ZvUBdtKmBJq"
      },
      "source": [
        "### Criando uma matrix diagonal "
      ]
    },
    {
      "cell_type": "code",
      "metadata": {
        "trusted": true,
        "id": "INy0oz3zmBJq",
        "colab": {
          "base_uri": "https://localhost:8080/"
        },
        "outputId": "29eecc9d-106f-4020-9daf-2a3bac65d5af"
      },
      "source": [
        "# a  matriz diagonal com valores 1,2,3 \n",
        "np.diag([1,2,3])"
      ],
      "execution_count": null,
      "outputs": [
        {
          "output_type": "execute_result",
          "data": {
            "text/plain": [
              "array([[1, 0, 0],\n",
              "       [0, 2, 0],\n",
              "       [0, 0, 3]])"
            ]
          },
          "metadata": {
            "tags": []
          },
          "execution_count": 62
        }
      ]
    },
    {
      "cell_type": "code",
      "metadata": {
        "trusted": true,
        "id": "1K0grTN-mBJt",
        "colab": {
          "base_uri": "https://localhost:8080/"
        },
        "outputId": "96a71330-e136-495a-cbce-f5c50ddbccf5"
      },
      "source": [
        "# uma matriz diagonal com uma coluna e linha deslocadas\n",
        "np.diag([1,2,3], k=1) "
      ],
      "execution_count": null,
      "outputs": [
        {
          "output_type": "execute_result",
          "data": {
            "text/plain": [
              "array([[0, 1, 0, 0],\n",
              "       [0, 0, 2, 0],\n",
              "       [0, 0, 0, 3],\n",
              "       [0, 0, 0, 0]])"
            ]
          },
          "metadata": {
            "tags": []
          },
          "execution_count": 63
        }
      ]
    },
    {
      "cell_type": "markdown",
      "metadata": {
        "id": "5MMcAnyGmBJw"
      },
      "source": [
        "#### Criando matrizes de zeros and uns"
      ]
    },
    {
      "cell_type": "code",
      "metadata": {
        "trusted": true,
        "id": "2kDs-BYPmBJw",
        "colab": {
          "base_uri": "https://localhost:8080/"
        },
        "outputId": "371e1f74-6211-40f0-ec09-c97c0bfe03f2"
      },
      "source": [
        "np.zeros((3,3))"
      ],
      "execution_count": null,
      "outputs": [
        {
          "output_type": "execute_result",
          "data": {
            "text/plain": [
              "array([[0., 0., 0.],\n",
              "       [0., 0., 0.],\n",
              "       [0., 0., 0.]])"
            ]
          },
          "metadata": {
            "tags": []
          },
          "execution_count": 64
        }
      ]
    },
    {
      "cell_type": "code",
      "metadata": {
        "trusted": true,
        "id": "2gJWcaBgmBJ0",
        "colab": {
          "base_uri": "https://localhost:8080/"
        },
        "outputId": "3bb4b983-7e0b-4b22-a4f2-9bb2a2bc9710"
      },
      "source": [
        "np.ones((3,3))"
      ],
      "execution_count": null,
      "outputs": [
        {
          "output_type": "execute_result",
          "data": {
            "text/plain": [
              "array([[1., 1., 1.],\n",
              "       [1., 1., 1.],\n",
              "       [1., 1., 1.]])"
            ]
          },
          "metadata": {
            "tags": []
          },
          "execution_count": 65
        }
      ]
    },
    {
      "cell_type": "markdown",
      "metadata": {
        "id": "fbxwcO8RmBKk"
      },
      "source": [
        "## Manipulando Arrays"
      ]
    },
    {
      "cell_type": "markdown",
      "metadata": {
        "id": "hpUmd9jfmBKk"
      },
      "source": [
        "### Index"
      ]
    },
    {
      "cell_type": "code",
      "metadata": {
        "trusted": true,
        "id": "yX-K0rRbmBKl",
        "colab": {
          "base_uri": "https://localhost:8080/"
        },
        "outputId": "46bd414f-9668-442a-d7be-12e7b5d26b61"
      },
      "source": [
        "#Muito parecdido com a linguagem C\n",
        "print(meuArray1)\n",
        "meuArray1[0]"
      ],
      "execution_count": null,
      "outputs": [
        {
          "output_type": "stream",
          "text": [
            "[1 2 3 4]\n"
          ],
          "name": "stdout"
        },
        {
          "output_type": "execute_result",
          "data": {
            "text/plain": [
              "1"
            ]
          },
          "metadata": {
            "tags": []
          },
          "execution_count": 69
        }
      ]
    },
    {
      "cell_type": "code",
      "metadata": {
        "colab": {
          "base_uri": "https://localhost:8080/"
        },
        "id": "JjpVFqXPmCc6",
        "outputId": "286331af-4f86-4261-a468-18536f8a0a63"
      },
      "source": [
        "print(meuArray1)\n",
        "\n",
        "meuArray1[3]"
      ],
      "execution_count": null,
      "outputs": [
        {
          "output_type": "stream",
          "text": [
            "[1 2 3 4]\n"
          ],
          "name": "stdout"
        },
        {
          "output_type": "execute_result",
          "data": {
            "text/plain": [
              "4"
            ]
          },
          "metadata": {
            "tags": []
          },
          "execution_count": 72
        }
      ]
    },
    {
      "cell_type": "code",
      "metadata": {
        "trusted": true,
        "id": "Y19gWdOYmBKn",
        "colab": {
          "base_uri": "https://localhost:8080/"
        },
        "outputId": "f493cad3-991b-41ee-eee3-02f1c0cddd5f"
      },
      "source": [
        "# se usarmos dois índices....\n",
        "print(meuArray2)\n",
        "meuArray2[1,0]"
      ],
      "execution_count": null,
      "outputs": [
        {
          "output_type": "stream",
          "text": [
            "[[1.+0.j 2.+0.j]\n",
            " [3.+0.j 4.+0.j]]\n"
          ],
          "name": "stdout"
        },
        {
          "output_type": "execute_result",
          "data": {
            "text/plain": [
              "(3+0j)"
            ]
          },
          "metadata": {
            "tags": []
          },
          "execution_count": 75
        }
      ]
    },
    {
      "cell_type": "code",
      "metadata": {
        "trusted": true,
        "id": "x8KtI6ZVmBKu",
        "colab": {
          "base_uri": "https://localhost:8080/"
        },
        "outputId": "395d9199-a106-4684-ae62-1be4d9b6fc59"
      },
      "source": [
        "print(meuArray2)\n",
        "meuArray2[1,:] # ou explicitamente declarar uma linha : row 1"
      ],
      "execution_count": null,
      "outputs": [
        {
          "output_type": "stream",
          "text": [
            "[[1.+0.j 2.+0.j]\n",
            " [3.+0.j 4.+0.j]]\n"
          ],
          "name": "stdout"
        },
        {
          "output_type": "execute_result",
          "data": {
            "text/plain": [
              "array([3.+0.j, 4.+0.j])"
            ]
          },
          "metadata": {
            "tags": []
          },
          "execution_count": 77
        }
      ]
    },
    {
      "cell_type": "code",
      "metadata": {
        "trusted": true,
        "id": "xX4XcC2SmBKx",
        "colab": {
          "base_uri": "https://localhost:8080/"
        },
        "outputId": "0859602e-8c34-462f-fe97-d548633dda3e"
      },
      "source": [
        "print(meuArray2)\n",
        "meuArray2[:,1] # ou uma coluna"
      ],
      "execution_count": null,
      "outputs": [
        {
          "output_type": "stream",
          "text": [
            "[[1.+0.j 2.+0.j]\n",
            " [3.+0.j 4.+0.j]]\n"
          ],
          "name": "stdout"
        },
        {
          "output_type": "execute_result",
          "data": {
            "text/plain": [
              "array([2.+0.j, 4.+0.j])"
            ]
          },
          "metadata": {
            "tags": []
          },
          "execution_count": 78
        }
      ]
    },
    {
      "cell_type": "markdown",
      "metadata": {
        "id": "REz0S85ZmBKz"
      },
      "source": [
        "Também podemos atribuir valores usando o índice:"
      ]
    },
    {
      "cell_type": "code",
      "metadata": {
        "trusted": true,
        "id": "PXs3RonrmBK0",
        "colab": {
          "base_uri": "https://localhost:8080/"
        },
        "outputId": "74816069-c389-4f67-f290-b83634405652"
      },
      "source": [
        "meuArray2 = np.array([[9, 8], [7, 6]])\n",
        "print(meuArray2)\n",
        "meuArray2[0,0] = 1\n",
        "print(\"\\n\",meuArray2)"
      ],
      "execution_count": null,
      "outputs": [
        {
          "output_type": "stream",
          "text": [
            "[[9 8]\n",
            " [7 6]]\n",
            "\n",
            " [[1 8]\n",
            " [7 6]]\n"
          ],
          "name": "stdout"
        }
      ]
    },
    {
      "cell_type": "code",
      "metadata": {
        "trusted": true,
        "id": "jK1Nv5lnmBK8",
        "colab": {
          "base_uri": "https://localhost:8080/"
        },
        "outputId": "88d21c93-25dc-4ef1-9fec-249beacb0810"
      },
      "source": [
        "print(meuArray2,\"\\n\")\n",
        "# o que também funciona para linhas e colunas\n",
        "meuArray2[1,:] = 0 # segunda linha toda de zeros\n",
        "print(meuArray2,\"\\n\")\n",
        "meuArray2[:,1] = -1 #segunda coluna toda de -1\n",
        "print(meuArray2)"
      ],
      "execution_count": null,
      "outputs": [
        {
          "output_type": "stream",
          "text": [
            "[[1 8]\n",
            " [7 6]] \n",
            "\n",
            "[[1 8]\n",
            " [0 0]] \n",
            "\n",
            "[[ 1 -1]\n",
            " [ 0 -1]]\n"
          ],
          "name": "stdout"
        }
      ]
    },
    {
      "cell_type": "markdown",
      "metadata": {
        "id": "oR_zb1iqmBLB"
      },
      "source": [
        "### Extraíndo dados do array"
      ]
    },
    {
      "cell_type": "markdown",
      "metadata": {
        "id": "DAOT4SYwmBLF"
      },
      "source": [
        "podemos usar a sintaxe `M[lower:upper:step]` para extrari partes do array. Vamos criar o array A:"
      ]
    },
    {
      "cell_type": "code",
      "metadata": {
        "trusted": true,
        "id": "5XDfORzimBLG",
        "colab": {
          "base_uri": "https://localhost:8080/"
        },
        "outputId": "e6359c7e-6b59-4667-aea5-266ea10b80dc"
      },
      "source": [
        "meuArray1 = np.array([1,2,3,4,5])\n",
        "meuArray1"
      ],
      "execution_count": null,
      "outputs": [
        {
          "output_type": "execute_result",
          "data": {
            "text/plain": [
              "array([1, 2, 3, 4, 5])"
            ]
          },
          "metadata": {
            "tags": []
          },
          "execution_count": 87
        }
      ]
    },
    {
      "cell_type": "code",
      "metadata": {
        "trusted": true,
        "id": "7h4cbrQdmBLJ",
        "colab": {
          "base_uri": "https://localhost:8080/"
        },
        "outputId": "1577e0b4-e6bd-486e-b898-5b2f5fb38003"
      },
      "source": [
        "#e retirar o array que está entre os índices 1 (incluído) e 3 (excluído)\n",
        "novoArray1 = meuArray1[1:3]\n",
        "novoArray1"
      ],
      "execution_count": null,
      "outputs": [
        {
          "output_type": "execute_result",
          "data": {
            "text/plain": [
              "array([2, 3])"
            ]
          },
          "metadata": {
            "tags": []
          },
          "execution_count": 88
        }
      ]
    },
    {
      "cell_type": "markdown",
      "metadata": {
        "id": "Kgifm7VVmBLL"
      },
      "source": [
        "Podemos usar a mesam sintaxe para atribuir valores a um range de indexes."
      ]
    },
    {
      "cell_type": "code",
      "metadata": {
        "trusted": true,
        "id": "88XTMcH9mBLL",
        "colab": {
          "base_uri": "https://localhost:8080/"
        },
        "outputId": "5dbbff16-b1c5-4727-abff-f3818296e1f7"
      },
      "source": [
        "meuArray1[1:3] = [-2,-3]\n",
        "\n",
        "meuArray1"
      ],
      "execution_count": null,
      "outputs": [
        {
          "output_type": "execute_result",
          "data": {
            "text/plain": [
              "array([ 1, -2, -3,  4,  5])"
            ]
          },
          "metadata": {
            "tags": []
          },
          "execution_count": 89
        }
      ]
    },
    {
      "cell_type": "markdown",
      "metadata": {
        "id": "AjfUWjiFmBLN"
      },
      "source": [
        "Podemos trabalhar essa sintaxe em busca de valores diferentes, ainda usando os índices. "
      ]
    },
    {
      "cell_type": "code",
      "metadata": {
        "trusted": true,
        "id": "WWUyxxYGmBLO",
        "colab": {
          "base_uri": "https://localhost:8080/"
        },
        "outputId": "8423543a-2619-4d3b-eca3-86035f6c7034"
      },
      "source": [
        "meuArray1[::] # tudo ignorado, usando os valores default"
      ],
      "execution_count": null,
      "outputs": [
        {
          "output_type": "execute_result",
          "data": {
            "text/plain": [
              "array([ 1, -2, -3,  4,  5])"
            ]
          },
          "metadata": {
            "tags": []
          },
          "execution_count": 90
        }
      ]
    },
    {
      "cell_type": "code",
      "metadata": {
        "trusted": true,
        "id": "-wlQSUbHmBLQ",
        "colab": {
          "base_uri": "https://localhost:8080/"
        },
        "outputId": "6294c303-6096-43fe-c8bf-1c33bead229c"
      },
      "source": [
        "print(meuArray1)\n",
        "meuArray1[::2] # mudando apenas o atributo step para 2"
      ],
      "execution_count": null,
      "outputs": [
        {
          "output_type": "stream",
          "text": [
            "[ 1 -2 -3  4  5]\n"
          ],
          "name": "stdout"
        },
        {
          "output_type": "execute_result",
          "data": {
            "text/plain": [
              "array([ 1, -3,  5])"
            ]
          },
          "metadata": {
            "tags": []
          },
          "execution_count": 91
        }
      ]
    },
    {
      "cell_type": "code",
      "metadata": {
        "trusted": true,
        "id": "8pczq7W3mBLT",
        "colab": {
          "base_uri": "https://localhost:8080/"
        },
        "outputId": "95930e84-5d39-4847-ccf7-77c103ef995c"
      },
      "source": [
        "meuArray1[:3] # os três primeiros elementos"
      ],
      "execution_count": null,
      "outputs": [
        {
          "output_type": "execute_result",
          "data": {
            "text/plain": [
              "array([ 1, -2, -3])"
            ]
          },
          "metadata": {
            "tags": []
          },
          "execution_count": 92
        }
      ]
    },
    {
      "cell_type": "code",
      "metadata": {
        "trusted": true,
        "id": "1HqpqFutmBLV",
        "colab": {
          "base_uri": "https://localhost:8080/"
        },
        "outputId": "704218cb-5d76-42bb-88ca-4f1c4346c819"
      },
      "source": [
        "meuArray1[3:] # todos os elementos a partir do índice 3"
      ],
      "execution_count": null,
      "outputs": [
        {
          "output_type": "execute_result",
          "data": {
            "text/plain": [
              "array([4, 5])"
            ]
          },
          "metadata": {
            "tags": []
          },
          "execution_count": 93
        }
      ]
    },
    {
      "cell_type": "markdown",
      "metadata": {
        "id": "dnk9AdjqmBLY"
      },
      "source": [
        "Índices podem ser negativos, e positivos. Os índices negativos contam do final para o começo do array. E não existe índice -zero."
      ]
    },
    {
      "cell_type": "code",
      "metadata": {
        "trusted": true,
        "id": "vP6jnepsmBLZ"
      },
      "source": [
        "meuArray1 = np.array([1,2,3,4,5])"
      ],
      "execution_count": null,
      "outputs": []
    },
    {
      "cell_type": "code",
      "metadata": {
        "trusted": true,
        "id": "d28S9_f-mBLb",
        "colab": {
          "base_uri": "https://localhost:8080/"
        },
        "outputId": "0f5fcd13-7b49-401b-ea95-6237c75cce30"
      },
      "source": [
        "meuArray1[-1] # retorna o último elemento do array\n"
      ],
      "execution_count": null,
      "outputs": [
        {
          "output_type": "execute_result",
          "data": {
            "text/plain": [
              "5"
            ]
          },
          "metadata": {
            "tags": []
          },
          "execution_count": 96
        }
      ]
    },
    {
      "cell_type": "code",
      "metadata": {
        "trusted": true,
        "id": "QqC3Z9W0mBLf",
        "colab": {
          "base_uri": "https://localhost:8080/"
        },
        "outputId": "69ac6a09-b002-4f5d-9edc-bab8cbdd23c1"
      },
      "source": [
        "meuArray1[-3:] # retorna os três últimos"
      ],
      "execution_count": null,
      "outputs": [
        {
          "output_type": "execute_result",
          "data": {
            "text/plain": [
              "array([3, 4, 5])"
            ]
          },
          "metadata": {
            "tags": []
          },
          "execution_count": 97
        }
      ]
    },
    {
      "cell_type": "markdown",
      "metadata": {
        "id": "1V2O7BiZpWdf"
      },
      "source": [
        "## Funções Matemáticas "
      ]
    },
    {
      "cell_type": "code",
      "metadata": {
        "colab": {
          "base_uri": "https://localhost:8080/"
        },
        "id": "-j2dmxDipbai",
        "outputId": "961b3e45-0402-4e7d-ac75-b8df86ca98ef"
      },
      "source": [
        "print(meuArray1)\n",
        "\n",
        "print(\"O maior valor é\", meuArray1.max())      #O maior valor de um array\n",
        "print(\"O índice do maior valor é\", meuArray1.argmax())   #O índice do array onde está o maior valor\n",
        "print(\"O menor valor é\", meuArray1.min())      #O menor valor de um array\n",
        "print(\"O índice do menor valor é\", meuArray1.argmin())   #O índice do array onde está o menor valor\n"
      ],
      "execution_count": null,
      "outputs": [
        {
          "output_type": "stream",
          "text": [
            "[1 2 3 4 5]\n",
            "O maior valor é 5\n",
            "O índice do maior valor é 4\n",
            "O menor valor é 1\n",
            "O índice do menor valor é 0\n"
          ],
          "name": "stdout"
        }
      ]
    },
    {
      "cell_type": "code",
      "metadata": {
        "colab": {
          "base_uri": "https://localhost:8080/"
        },
        "id": "k11Hmsomq1K7",
        "outputId": "2ca2c0b7-64a4-432a-bd27-ea854e4b19da"
      },
      "source": [
        "foo = np.array([[4,3], [1,0]])\n",
        "print(\"foo:\\n\", foo)\n",
        "bar = np.array([[1,2], [3,4]])\n",
        "print(\"bar:\\n\",bar)\n",
        "print(\"foo+bar:\\n \", foo+bar) #adição\n",
        "print(\"foo-bar:\\n \", foo-bar) #subtração\n",
        "print(\"foo*bar:\\n \", foo*bar) #multiplicação\n",
        "print(\"foo/bar:\\n \", foo/bar) #divisão\n",
        "print(\"foo@bar:\\n \", foo@bar) #Multiplicação de Matrizes\n",
        "print(\"foo+5:\\n \", foo+5) #adição\n",
        "print(\"foo-5:\\n \", foo-5) #subtração\n",
        "print(\"foo*5:\\n \", foo*5) #multiplicação\n",
        "print(\"foo/5:\\n \", foo/5) #divisão"
      ],
      "execution_count": null,
      "outputs": [
        {
          "output_type": "stream",
          "text": [
            "foo:\n",
            " [[4 3]\n",
            " [1 0]]\n",
            "bar:\n",
            " [[1 2]\n",
            " [3 4]]\n",
            "foo+bar:\n",
            "  [[5 5]\n",
            " [4 4]]\n",
            "foo-bar:\n",
            "  [[ 3  1]\n",
            " [-2 -4]]\n",
            "foo*bar:\n",
            "  [[4 6]\n",
            " [3 0]]\n",
            "foo/bar:\n",
            "  [[4.         1.5       ]\n",
            " [0.33333333 0.        ]]\n",
            "foo@bar:\n",
            "  [[13 20]\n",
            " [ 1  2]]\n",
            "foo+5:\n",
            "  [[9 8]\n",
            " [6 5]]\n",
            "foo-5:\n",
            "  [[-1 -2]\n",
            " [-4 -5]]\n",
            "foo*5:\n",
            "  [[20 15]\n",
            " [ 5  0]]\n",
            "foo/5:\n",
            "  [[0.8 0.6]\n",
            " [0.2 0. ]]\n"
          ],
          "name": "stdout"
        }
      ]
    },
    {
      "cell_type": "code",
      "metadata": {
        "id": "MrNH3CBRsNID",
        "colab": {
          "base_uri": "https://localhost:8080/"
        },
        "outputId": "90c9c70a-aa7b-4284-c2d1-c1cd60968362"
      },
      "source": [
        "matriz = np.array(\n",
        "    [[5.0, 2.0, 10.0],\n",
        "     [1.0, 0.0, 7.0],\n",
        "     [1.0, 7.0, 5.0]]\n",
        ")\n",
        "print(matriz)"
      ],
      "execution_count": null,
      "outputs": [
        {
          "output_type": "stream",
          "text": [
            "[[ 5.  2. 10.]\n",
            " [ 1.  0.  7.]\n",
            " [ 1.  7.  5.]]\n"
          ],
          "name": "stdout"
        }
      ]
    },
    {
      "cell_type": "markdown",
      "metadata": {
        "id": "3KG_F8zksfBP"
      },
      "source": [
        "Podemos somar todos os elementos de um array"
      ]
    },
    {
      "cell_type": "code",
      "metadata": {
        "colab": {
          "base_uri": "https://localhost:8080/"
        },
        "id": "ugL8bIyQsX9f",
        "outputId": "4dfade6d-e70a-418a-98ad-6bfa62aee788"
      },
      "source": [
        "np.sum(matriz)\n"
      ],
      "execution_count": null,
      "outputs": [
        {
          "output_type": "execute_result",
          "data": {
            "text/plain": [
              "38.0"
            ]
          },
          "metadata": {
            "tags": []
          },
          "execution_count": 101
        }
      ]
    },
    {
      "cell_type": "markdown",
      "metadata": {
        "id": "C1kONGs4spXs"
      },
      "source": [
        "Também podemos somar por colunas"
      ]
    },
    {
      "cell_type": "code",
      "metadata": {
        "colab": {
          "base_uri": "https://localhost:8080/"
        },
        "id": "Ieson1UZsswH",
        "outputId": "13a27087-4be0-430f-ec85-cb5fbbe6a3cc"
      },
      "source": [
        "print(\"Por colunas:\", np.sum(matriz, axis = 0)) #axis = 0 = somar por colunas\n"
      ],
      "execution_count": null,
      "outputs": [
        {
          "output_type": "stream",
          "text": [
            "Por colunas: [ 7.  9. 22.]\n"
          ],
          "name": "stdout"
        }
      ]
    },
    {
      "cell_type": "code",
      "metadata": {
        "colab": {
          "base_uri": "https://localhost:8080/"
        },
        "id": "mYu3NzpSte0g",
        "outputId": "6148b589-f757-4ad8-f5ff-bc41ef23b96e"
      },
      "source": [
        "print(\"Por linhas:\", np.sum(matriz, axis = 1)) #axis = 0 = somar por linhas\n"
      ],
      "execution_count": null,
      "outputs": [
        {
          "output_type": "stream",
          "text": [
            "Por linhas: [17.  8. 13.]\n"
          ],
          "name": "stdout"
        }
      ]
    },
    {
      "cell_type": "code",
      "metadata": {
        "colab": {
          "base_uri": "https://localhost:8080/"
        },
        "id": "NTkUv2nzuGF2",
        "outputId": "857f2f20-f4bc-4479-9086-b569ef29fde7"
      },
      "source": [
        "print(matriz)\n",
        "print(\"indexando\")\n",
        "print(\"linha 0:\", matriz[0])\n",
        "print(\"linha 1:\", matriz[1])\n",
        "print(\"linha 2:\", matriz[2])\n"
      ],
      "execution_count": null,
      "outputs": [
        {
          "output_type": "stream",
          "text": [
            "[[ 5.  2. 10.]\n",
            " [ 1.  0.  7.]\n",
            " [ 1.  7.  5.]]\n",
            "indexando\n",
            "linha 0: [ 5.  2. 10.]\n",
            "linha 1: [1. 0. 7.]\n",
            "linha 2: [1. 7. 5.]\n"
          ],
          "name": "stdout"
        }
      ]
    },
    {
      "cell_type": "markdown",
      "metadata": {
        "id": "HGoMraNVvGhY"
      },
      "source": [
        "As coisas incríveis que fazemos com índices"
      ]
    },
    {
      "cell_type": "code",
      "metadata": {
        "colab": {
          "base_uri": "https://localhost:8080/"
        },
        "id": "yKw1UFZuutlq",
        "outputId": "55885f66-ffd9-498b-b428-163b82a81de6"
      },
      "source": [
        "print(matriz)\n",
        "print(\"indexando\")\n",
        "print(\"Coluna 0:\", matriz[:,0])\n",
        "print(\"Coluna 1:\", matriz[:,1])\n",
        "print(\"Coluna 2:\", matriz[:,2])\n",
        "\n",
        "print(\"Linha 1, Coluna 2:\", matriz[1,2])"
      ],
      "execution_count": null,
      "outputs": [
        {
          "output_type": "stream",
          "text": [
            "[[ 5.  2. 10.]\n",
            " [ 1.  0.  7.]\n",
            " [ 1.  7.  5.]]\n",
            "indexando\n",
            "Coluna 0: [5. 1. 1.]\n",
            "Coluna 1: [2. 0. 7.]\n",
            "Coluna 2: [10.  7.  5.]\n",
            "Linha 1, Coluna 2: 7.0\n"
          ],
          "name": "stdout"
        }
      ]
    }
  ]
}